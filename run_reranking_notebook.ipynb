{
 "cells": [
  {
   "cell_type": "code",
   "execution_count": 2,
   "metadata": {},
   "outputs": [],
   "source": [
    "import os\n",
    "\n",
    "with open('requirements.txt', 'r') as f:\n",
    "    for line in f:\n",
    "        os.system('pip install --upgrade ' + line)"
   ]
  },
  {
   "cell_type": "code",
   "execution_count": 8,
   "metadata": {},
   "outputs": [
    {
     "name": "stdout",
     "output_type": "stream",
     "text": [
      "Collecting google-api-python-client\n",
      "  Downloading google_api_python_client-1.12.5-py2.py3-none-any.whl (61 kB)\n",
      "\u001b[K     |████████████████████████████████| 61 kB 302 kB/s eta 0:00:011\n",
      "\u001b[?25hCollecting oauth2client\n",
      "  Downloading oauth2client-4.1.3-py2.py3-none-any.whl (98 kB)\n",
      "\u001b[K     |████████████████████████████████| 98 kB 711 kB/s eta 0:00:01\n",
      "\u001b[?25hCollecting google-auth-httplib2>=0.0.3\n",
      "  Downloading google_auth_httplib2-0.0.4-py2.py3-none-any.whl (9.1 kB)\n",
      "Collecting google-api-core<2dev,>=1.21.0\n",
      "  Downloading google_api_core-1.23.0-py2.py3-none-any.whl (91 kB)\n",
      "\u001b[K     |████████████████████████████████| 91 kB 1.5 MB/s eta 0:00:01\n",
      "\u001b[?25hCollecting httplib2<1dev,>=0.15.0\n",
      "  Downloading httplib2-0.18.1-py3-none-any.whl (95 kB)\n",
      "\u001b[K     |████████████████████████████████| 95 kB 1.0 MB/s eta 0:00:011\n",
      "\u001b[?25hCollecting six<2dev,>=1.13.0\n",
      "  Downloading six-1.15.0-py2.py3-none-any.whl (10 kB)\n",
      "Collecting uritemplate<4dev,>=3.0.0\n",
      "  Downloading uritemplate-3.0.1-py2.py3-none-any.whl (15 kB)\n",
      "Collecting google-auth>=1.16.0\n",
      "  Downloading google_auth-1.23.0-py2.py3-none-any.whl (114 kB)\n",
      "\u001b[K     |████████████████████████████████| 114 kB 9.0 MB/s eta 0:00:01\n",
      "\u001b[?25hCollecting pyasn1>=0.1.7\n",
      "  Downloading pyasn1-0.4.8-py2.py3-none-any.whl (77 kB)\n",
      "\u001b[K     |████████████████████████████████| 77 kB 466 kB/s eta 0:00:011\n",
      "\u001b[?25hCollecting pyasn1-modules>=0.0.5\n",
      "  Downloading pyasn1_modules-0.2.8-py2.py3-none-any.whl (155 kB)\n",
      "\u001b[K     |████████████████████████████████| 155 kB 9.4 MB/s eta 0:00:01\n",
      "\u001b[?25hCollecting rsa>=3.1.4\n",
      "  Downloading rsa-4.6-py3-none-any.whl (47 kB)\n",
      "\u001b[K     |████████████████████████████████| 47 kB 951 kB/s eta 0:00:01\n",
      "\u001b[?25hCollecting requests<3.0.0dev,>=2.18.0\n",
      "  Downloading requests-2.24.0-py2.py3-none-any.whl (61 kB)\n",
      "\u001b[K     |████████████████████████████████| 61 kB 104 kB/s  eta 0:00:01\n",
      "\u001b[?25hRequirement already satisfied, skipping upgrade: setuptools>=34.0.0 in /usr/local/lib/python3.6/dist-packages (from google-api-core<2dev,>=1.21.0->google-api-python-client) (50.3.0)\n",
      "Collecting pytz\n",
      "  Downloading pytz-2020.4-py2.py3-none-any.whl (509 kB)\n",
      "\u001b[K     |████████████████████████████████| 509 kB 9.6 MB/s eta 0:00:01\n",
      "\u001b[?25hCollecting googleapis-common-protos<2.0dev,>=1.6.0\n",
      "  Downloading googleapis_common_protos-1.52.0-py2.py3-none-any.whl (100 kB)\n",
      "\u001b[K     |████████████████████████████████| 100 kB 1.9 MB/s ta 0:00:011\n",
      "\u001b[?25hRequirement already satisfied, skipping upgrade: protobuf>=3.12.0 in /usr/local/lib/python3.6/dist-packages (from google-api-core<2dev,>=1.21.0->google-api-python-client) (3.13.0)\n",
      "Collecting cachetools<5.0,>=2.0.0\n",
      "  Downloading cachetools-4.1.1-py3-none-any.whl (10 kB)\n",
      "Requirement already satisfied, skipping upgrade: idna<3,>=2.5 in /usr/lib/python3/dist-packages (from requests<3.0.0dev,>=2.18.0->google-api-core<2dev,>=1.21.0->google-api-python-client) (2.6)\n",
      "Collecting chardet<4,>=3.0.2\n",
      "  Downloading chardet-3.0.4-py2.py3-none-any.whl (133 kB)\n",
      "\u001b[K     |████████████████████████████████| 133 kB 6.1 MB/s eta 0:00:01\n",
      "\u001b[?25hRequirement already satisfied, skipping upgrade: certifi>=2017.4.17 in /usr/local/lib/python3.6/dist-packages (from requests<3.0.0dev,>=2.18.0->google-api-core<2dev,>=1.21.0->google-api-python-client) (2020.6.20)\n",
      "Collecting urllib3!=1.25.0,!=1.25.1,<1.26,>=1.21.1\n",
      "  Downloading urllib3-1.25.11-py2.py3-none-any.whl (127 kB)\n",
      "\u001b[K     |████████████████████████████████| 127 kB 7.4 MB/s eta 0:00:01\n",
      "\u001b[?25hInstalling collected packages: httplib2, pyasn1, pyasn1-modules, cachetools, rsa, six, google-auth, google-auth-httplib2, chardet, urllib3, requests, pytz, googleapis-common-protos, google-api-core, uritemplate, google-api-python-client, oauth2client\n",
      "  Attempting uninstall: six\n",
      "    Found existing installation: six 1.11.0\n",
      "    Uninstalling six-1.11.0:\n",
      "      Successfully uninstalled six-1.11.0\n",
      "Successfully installed cachetools-4.1.1 chardet-3.0.4 google-api-core-1.23.0 google-api-python-client-1.12.5 google-auth-1.23.0 google-auth-httplib2-0.0.4 googleapis-common-protos-1.52.0 httplib2-0.18.1 oauth2client-4.1.3 pyasn1-0.4.8 pyasn1-modules-0.2.8 pytz-2020.4 requests-2.24.0 rsa-4.6 six-1.15.0 uritemplate-3.0.1 urllib3-1.25.11\n",
      "\u001b[33mWARNING: You are using pip version 20.2.3; however, version 20.2.4 is available.\n",
      "You should consider upgrading via the '/usr/bin/python3 -m pip install --upgrade pip' command.\u001b[0m\n"
     ]
    }
   ],
   "source": [
    "!pip install --upgrade google-api-python-client oauth2client"
   ]
  },
  {
   "cell_type": "code",
   "execution_count": 14,
   "metadata": {},
   "outputs": [
    {
     "name": "stdout",
     "output_type": "stream",
     "text": [
      "Traceback (most recent call last):\r\n",
      "  File \"run_reranking_modified.py\", line 451, in <module>\r\n",
      "    tf.app.run()\r\n",
      "  File \"/usr/local/lib/python3.6/dist-packages/tensorflow_core/python/platform/app.py\", line 40, in run\r\n",
      "    _run(main=main, argv=argv, flags_parser=_parse_flags_tolerate_undef)\r\n",
      "  File \"/usr/local/lib/python3.6/dist-packages/absl/app.py\", line 300, in run\r\n",
      "    _run_main(main, args)\r\n",
      "  File \"/usr/local/lib/python3.6/dist-packages/absl/app.py\", line 251, in _run_main\r\n",
      "    sys.exit(main(argv))\r\n",
      "  File \"run_reranking_modified.py\", line 349, in main\r\n",
      "    relevance_dict = relevance_info.create_relevance(FLAGS.trec_run_filename, FLAGS.qrels_filename)\r\n",
      "  File \"/tf/PARADE/utils/relevance_info.py\", line 111, in create_relevance\r\n",
      "    res_relevance_dict = update_res_relevance(result_filename)\r\n",
      "  File \"/tf/PARADE/utils/relevance_info.py\", line 85, in update_res_relevance\r\n",
      "    with open(res_file, 'r') as f:\r\n",
      "TypeError: expected str, bytes or os.PathLike object, not NoneType\r\n"
     ]
    }
   ],
   "source": [
    "!python run_reranking_modified.py"
   ]
  },
  {
   "cell_type": "code",
   "execution_count": 15,
   "metadata": {},
   "outputs": [
    {
     "name": "stdout",
     "output_type": "stream",
     "text": [
      "Collecting git+https://github.com/terrier-org/pyterrier.git\n",
      "  Cloning https://github.com/terrier-org/pyterrier.git to /tmp/pip-req-build-y00m632_\n",
      "Requirement already satisfied, skipping upgrade: numpy in /usr/local/lib/python3.6/dist-packages (from python-terrier==0.3.0.dev0) (1.17.3)\n",
      "Collecting pandas\n",
      "  Downloading pandas-1.1.4-cp36-cp36m-manylinux1_x86_64.whl (9.5 MB)\n",
      "\u001b[K     |████████████████████████████████| 9.5 MB 88 kB/s s eta 0:00:01     |█████████████████████▎          | 6.3 MB 59.3 MB/s eta 0:00:01��█████████████████▎  | 8.7 MB 59.3 MB/s eta 0:00:01\n",
      "\u001b[?25hCollecting wget\n",
      "  Downloading wget-3.2.zip (10 kB)\n",
      "Collecting pytrec_eval\n",
      "  Downloading pytrec_eval-0.5.tar.gz (15 kB)\n",
      "Collecting tqdm\n",
      "  Downloading tqdm-4.51.0-py2.py3-none-any.whl (70 kB)\n",
      "\u001b[K     |████████████████████████████████| 70 kB 1.8 MB/s eta 0:00:011\n",
      "\u001b[?25hCollecting pyjnius~=1.3.0\n",
      "  Downloading pyjnius-1.3.0-cp36-cp36m-manylinux2010_x86_64.whl (1.1 MB)\n",
      "\u001b[K     |████████████████████████████████| 1.1 MB 9.4 MB/s eta 0:00:01\n",
      "\u001b[?25hCollecting matchpy\n",
      "  Downloading matchpy-0.5.3-py3-none-any.whl (67 kB)\n",
      "\u001b[K     |████████████████████████████████| 67 kB 908 kB/s eta 0:00:01\n",
      "\u001b[?25hCollecting sklearn\n",
      "  Downloading sklearn-0.0.tar.gz (1.1 kB)\n",
      "Collecting deprecation\n",
      "  Downloading deprecation-2.1.0-py2.py3-none-any.whl (11 kB)\n",
      "Collecting chest\n",
      "  Downloading chest-0.2.3.tar.gz (9.6 kB)\n",
      "Collecting scipy\n",
      "  Downloading scipy-1.5.4-cp36-cp36m-manylinux1_x86_64.whl (25.9 MB)\n",
      "\u001b[K     |████████████████████████████████| 25.9 MB 31 kB/s  eta 0:00:01    |████████▊                       | 7.1 MB 9.2 MB/s eta 0:00:03     |████████████████████████████▏   | 22.7 MB 5.3 MB/s eta 0:00:01\n",
      "\u001b[?25hRequirement already satisfied, skipping upgrade: requests in /usr/local/lib/python3.6/dist-packages (from python-terrier==0.3.0.dev0) (2.24.0)\n",
      "Requirement already satisfied, skipping upgrade: pytz>=2017.2 in /usr/local/lib/python3.6/dist-packages (from pandas->python-terrier==0.3.0.dev0) (2020.4)\n",
      "Requirement already satisfied, skipping upgrade: python-dateutil>=2.7.3 in /usr/local/lib/python3.6/dist-packages (from pandas->python-terrier==0.3.0.dev0) (2.8.1)\n",
      "Requirement already satisfied, skipping upgrade: six>=1.7.0 in /usr/local/lib/python3.6/dist-packages (from pyjnius~=1.3.0->python-terrier==0.3.0.dev0) (1.15.0)\n",
      "Collecting cython\n",
      "  Downloading Cython-0.29.21-cp36-cp36m-manylinux1_x86_64.whl (2.0 MB)\n",
      "\u001b[K     |████████████████████████████████| 2.0 MB 8.5 MB/s eta 0:00:01\n",
      "\u001b[?25hCollecting multiset<3.0,>=2.0\n",
      "  Downloading multiset-2.1.1-py2.py3-none-any.whl (8.8 kB)\n",
      "Collecting hopcroftkarp<2.0,>=1.2\n",
      "  Downloading hopcroftkarp-1.2.5.tar.gz (16 kB)\n",
      "Collecting scikit-learn\n",
      "  Downloading scikit_learn-0.23.2-cp36-cp36m-manylinux1_x86_64.whl (6.8 MB)\n",
      "\u001b[K     |████████████████████████████████| 6.8 MB 164 kB/s eta 0:00:01     |███████████████████▏            | 4.1 MB 6.8 MB/s eta 0:00:01\n",
      "\u001b[?25hRequirement already satisfied, skipping upgrade: packaging in /usr/local/lib/python3.6/dist-packages (from deprecation->python-terrier==0.3.0.dev0) (20.4)\n",
      "Collecting heapdict\n",
      "  Downloading HeapDict-1.0.1-py3-none-any.whl (3.9 kB)\n",
      "Requirement already satisfied, skipping upgrade: urllib3!=1.25.0,!=1.25.1,<1.26,>=1.21.1 in /usr/local/lib/python3.6/dist-packages (from requests->python-terrier==0.3.0.dev0) (1.25.11)\n",
      "Requirement already satisfied, skipping upgrade: idna<3,>=2.5 in /usr/lib/python3/dist-packages (from requests->python-terrier==0.3.0.dev0) (2.6)\n",
      "Requirement already satisfied, skipping upgrade: certifi>=2017.4.17 in /usr/local/lib/python3.6/dist-packages (from requests->python-terrier==0.3.0.dev0) (2020.6.20)\n",
      "Requirement already satisfied, skipping upgrade: chardet<4,>=3.0.2 in /usr/local/lib/python3.6/dist-packages (from requests->python-terrier==0.3.0.dev0) (3.0.4)\n",
      "Collecting joblib>=0.11\n",
      "  Downloading joblib-0.17.0-py3-none-any.whl (301 kB)\n",
      "\u001b[K     |████████████████████████████████| 301 kB 9.1 MB/s eta 0:00:01\n",
      "\u001b[?25hCollecting threadpoolctl>=2.0.0\n",
      "  Downloading threadpoolctl-2.1.0-py3-none-any.whl (12 kB)\n",
      "Requirement already satisfied, skipping upgrade: pyparsing>=2.0.2 in /usr/local/lib/python3.6/dist-packages (from packaging->deprecation->python-terrier==0.3.0.dev0) (2.4.7)\n",
      "Building wheels for collected packages: python-terrier, wget, pytrec-eval, sklearn, chest, hopcroftkarp\n",
      "  Building wheel for python-terrier (setup.py) ... \u001b[?25ldone\n",
      "\u001b[?25h  Created wheel for python-terrier: filename=python_terrier-0.3.0.dev0-py3-none-any.whl size=52542 sha256=c120f2331c66ed5a56f83422a1c5040ed424ca4d24c3cc7806a9a7e28362d0cc\n",
      "  Stored in directory: /tmp/pip-ephem-wheel-cache-oecgyavn/wheels/4c/07/c6/080ac3c7bbf879cc6597f3db543dd68e188b2d6f2c7e3b4a80\n",
      "  Building wheel for wget (setup.py) ... \u001b[?25ldone\n",
      "\u001b[?25h  Created wheel for wget: filename=wget-3.2-py3-none-any.whl size=11569 sha256=d10f1812c47409360333301d779b14f2e63730fe45ae05c3f4875c51154e6fe0\n",
      "  Stored in directory: /root/.cache/pip/wheels/90/1d/93/c863ee832230df5cfc25ca497b3e88e0ee3ea9e44adc46ac62\n",
      "  Building wheel for pytrec-eval (setup.py) ... \u001b[?25ldone\n",
      "\u001b[?25h  Created wheel for pytrec-eval: filename=pytrec_eval-0.5-cp36-cp36m-linux_x86_64.whl size=263236 sha256=32d97158ca5614e80b4f74e15a8420566b8633969216015ad3bbcf1137c1fbe5\n",
      "  Stored in directory: /root/.cache/pip/wheels/35/d0/20/3fe0d78847840502ac3d9d5fcc3975c2e6cad27ee877592db3\n",
      "  Building wheel for sklearn (setup.py) ... \u001b[?25ldone\n",
      "\u001b[?25h  Created wheel for sklearn: filename=sklearn-0.0-py2.py3-none-any.whl size=2397 sha256=f479dbd5fea949aea436bc720ccd35a3269c8025fef772637574c2fdb4949d4e\n",
      "  Stored in directory: /root/.cache/pip/wheels/23/9d/42/5ec745cbbb17517000a53cecc49d6a865450d1f5cb16dc8a9c\n",
      "  Building wheel for chest (setup.py) ... \u001b[?25ldone\n",
      "\u001b[?25h  Created wheel for chest: filename=chest-0.2.3-py3-none-any.whl size=9161 sha256=5c4a3a9b20de788afcb6b1a19b336d8e74ab7de0257984e99e7daa41d40d69e6\n",
      "  Stored in directory: /root/.cache/pip/wheels/e4/87/97/51a3d6521a2ddf6088f3323cf5c88fbc0a0170060d843df92f\n",
      "  Building wheel for hopcroftkarp (setup.py) ... \u001b[?25ldone\n",
      "\u001b[?25h  Created wheel for hopcroftkarp: filename=hopcroftkarp-1.2.5-py2.py3-none-any.whl size=7613 sha256=7839caf91a7a70b2a6537fbcce33dbfd3918e3d94218107bca8210e402146389\n",
      "  Stored in directory: /root/.cache/pip/wheels/e1/e4/40/09d17bfa5427a593ce22087aa102722f509dd343f8750aeda2\n",
      "Successfully built python-terrier wget pytrec-eval sklearn chest hopcroftkarp\n",
      "Installing collected packages: pandas, wget, pytrec-eval, tqdm, cython, pyjnius, multiset, hopcroftkarp, matchpy, joblib, threadpoolctl, scipy, scikit-learn, sklearn, deprecation, heapdict, chest, python-terrier\n",
      "Successfully installed chest-0.2.3 cython-0.29.21 deprecation-2.1.0 heapdict-1.0.1 hopcroftkarp-1.2.5 joblib-0.17.0 matchpy-0.5.3 multiset-2.1.1 pandas-1.1.4 pyjnius-1.3.0 python-terrier-0.3.0.dev0 pytrec-eval-0.5 scikit-learn-0.23.2 scipy-1.5.4 sklearn-0.0 threadpoolctl-2.1.0 tqdm-4.51.0 wget-3.2\n",
      "\u001b[33mWARNING: You are using pip version 20.2.3; however, version 20.2.4 is available.\n",
      "You should consider upgrading via the '/usr/bin/python3 -m pip install --upgrade pip' command.\u001b[0m\n"
     ]
    }
   ],
   "source": [
    "!pip install --upgrade git+https://github.com/terrier-org/pyterrier.git"
   ]
  },
  {
   "cell_type": "code",
   "execution_count": 20,
   "metadata": {},
   "outputs": [
    {
     "name": "stdout",
     "output_type": "stream",
     "text": [
      "Downloading vaswani corpus to /root/.pyterrier/corpora/vaswani/corpus\n"
     ]
    },
    {
     "name": "stderr",
     "output_type": "stream",
     "text": [
      "doc-text.trec: 3.33MiB [00:00, 13.4MiB/s]                           \n"
     ]
    }
   ],
   "source": [
    "index_properies = {\n",
    "    \"TaggedDocument.abstracts\":\"title,body\",\n",
    "    # The tags from which to save the text. ELSE is special tag name, which means anything not consumed by other tags.\n",
    "    \"TaggedDocument.abstracts.tags\":\"title,ELSE\",\n",
    "    # Should the tags from which we create abstracts be case-sensitive?\n",
    "    \"TaggedDocument.abstracts.tags.casesensitive\":\"false\",\n",
    "    # The max lengths of the abstracts. Abstracts will be cropped to this length. Defaults to empty.\n",
    "    \"TaggedDocument.abstracts.lengths\":\"256,4096\",\n",
    "\n",
    "    # We also need to tell the indexer to store the abstracts generated\n",
    "    # In addition to the docno, we also need to move the 'title' and 'body' abstracts generated to the meta index\n",
    "    \"indexer.meta.forward.keys\":\"docno,title,body\",\n",
    "    # The maximum lengths for the meta index entries.\n",
    "    \"indexer.meta.forward.keylens\":\"26,256,4096\",\n",
    "    # We will not be doing reverse lookups using the abstracts and so they are not listed here.\n",
    "    \"indexer.meta.reverse.keys\":\"docno\"\n",
    "}\n",
    "\n",
    "import pyterrier as pt\n",
    "if not pt.started():\n",
    "    pt.init(version=\"snapshot\")\n",
    "\n",
    "dataset = pt.datasets.get_dataset(\"vaswani\")\n",
    "\n",
    "indexer = pt.TRECCollectionIndexer(\"./index_vaswani\")\n",
    "indexer.setProperties(**index_properies)\n",
    "indexref = indexer.index(dataset.get_corpus())\n"
   ]
  },
  {
   "cell_type": "code",
   "execution_count": 21,
   "metadata": {},
   "outputs": [
    {
     "name": "stdout",
     "output_type": "stream",
     "text": [
      "Traceback (most recent call last):\r\n",
      "  File \"run_reranking_modified.py\", line 451, in <module>\r\n",
      "    tf.app.run()\r\n",
      "  File \"/usr/local/lib/python3.6/dist-packages/tensorflow_core/python/platform/app.py\", line 40, in run\r\n",
      "    _run(main=main, argv=argv, flags_parser=_parse_flags_tolerate_undef)\r\n",
      "  File \"/usr/local/lib/python3.6/dist-packages/absl/app.py\", line 300, in run\r\n",
      "    _run_main(main, args)\r\n",
      "  File \"/usr/local/lib/python3.6/dist-packages/absl/app.py\", line 251, in _run_main\r\n",
      "    sys.exit(main(argv))\r\n",
      "  File \"run_reranking_modified.py\", line 349, in main\r\n",
      "    relevance_dict = relevance_info.create_relevance(FLAGS.trec_run_filename, FLAGS.qrels_filename)\r\n",
      "  File \"/tf/PARADE/utils/relevance_info.py\", line 111, in create_relevance\r\n",
      "    res_relevance_dict = update_res_relevance(result_filename)\r\n",
      "  File \"/tf/PARADE/utils/relevance_info.py\", line 85, in update_res_relevance\r\n",
      "    with open(res_file, 'r') as f:\r\n",
      "TypeError: expected str, bytes or os.PathLike object, not NoneType\r\n"
     ]
    }
   ],
   "source": [
    "!python run_reranking_modified.py"
   ]
  },
  {
   "cell_type": "code",
   "execution_count": null,
   "metadata": {},
   "outputs": [],
   "source": []
  }
 ],
 "metadata": {
  "kernelspec": {
   "display_name": "Python 3",
   "language": "python",
   "name": "python3"
  },
  "language_info": {
   "codemirror_mode": {
    "name": "ipython",
    "version": 3
   },
   "file_extension": ".py",
   "mimetype": "text/x-python",
   "name": "python",
   "nbconvert_exporter": "python",
   "pygments_lexer": "ipython3",
   "version": "3.6.9"
  }
 },
 "nbformat": 4,
 "nbformat_minor": 4
}
